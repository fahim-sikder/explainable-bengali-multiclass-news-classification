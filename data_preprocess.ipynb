{
 "cells": [
  {
   "cell_type": "code",
   "execution_count": 1,
   "id": "126d924d-3e08-4de5-8eed-eb91b81f7681",
   "metadata": {},
   "outputs": [
    {
     "name": "stderr",
     "output_type": "stream",
     "text": [
      "/home/fahim/anaconda3/envs/explainable-news/lib/python3.8/site-packages/tqdm/auto.py:21: TqdmWarning: IProgress not found. Please update jupyter and ipywidgets. See https://ipywidgets.readthedocs.io/en/stable/user_install.html\n",
      "  from .autonotebook import tqdm as notebook_tqdm\n",
      "/home/fahim/anaconda3/envs/explainable-news/lib/python3.8/site-packages/gensim/similarities/__init__.py:15: UserWarning: The gensim.similarities.levenshtein submodule is disabled, because the optional Levenshtein package <https://pypi.org/project/python-Levenshtein/> is unavailable. Install Levenhstein (e.g. `pip install python-Levenshtein`) to suppress this warning.\n",
      "  warnings.warn(msg)\n"
     ]
    }
   ],
   "source": [
    "# Some part of the code is taken from https://www.kaggle.com/code/sharifashik/predict-bangla-newspaper-category-by-lstm\n",
    "\n",
    "import numpy as np\n",
    "import pandas as pd\n",
    "\n",
    "from tqdm import tqdm\n",
    "\n",
    "from sklearn.preprocessing import LabelEncoder\n",
    "\n",
    "from bnlp import BasicTokenizer\n",
    "from bnlp.corpus import stopwords, punctuations, letters, digits\n",
    "\n",
    "import json\n",
    "import pickle"
   ]
  },
  {
   "cell_type": "code",
   "execution_count": 2,
   "id": "8def6f7d-4604-4584-a8a6-8350334fb41e",
   "metadata": {},
   "outputs": [],
   "source": [
    "with open(file='data/data_v2.json', encoding='utf-8') as file:\n",
    "    data=json.load(file)"
   ]
  },
  {
   "cell_type": "code",
   "execution_count": 3,
   "id": "57104c24-f728-4984-a619-32861fc49def",
   "metadata": {},
   "outputs": [
    {
     "name": "stdout",
     "output_type": "stream",
     "text": [
      "9\n"
     ]
    }
   ],
   "source": [
    "all_category=[]\n",
    "\n",
    "for i in range(len(data)):\n",
    "    \n",
    "    cat=data[i]['category']\n",
    "    \n",
    "    all_category.append(cat)\n",
    "\n",
    "unique_cat=np.unique(np.array(all_category))\n",
    "\n",
    "print(len(unique_cat))"
   ]
  },
  {
   "cell_type": "code",
   "execution_count": 4,
   "id": "a81ca78e-1358-4436-87d3-508dea9a5c6b",
   "metadata": {},
   "outputs": [
    {
     "data": {
      "text/plain": [
       "[('bangladesh', 232504),\n",
       " ('economy', 17245),\n",
       " ('education', 9721),\n",
       " ('entertainment', 30466),\n",
       " ('international', 30856),\n",
       " ('life-style', 10852),\n",
       " ('opinion', 15699),\n",
       " ('sports', 49012),\n",
       " ('technology', 12116)]"
      ]
     },
     "execution_count": 4,
     "metadata": {},
     "output_type": "execute_result"
    }
   ],
   "source": [
    "category_count=[]\n",
    "for category in unique_cat:\n",
    "    x=all_category.count(category)\n",
    "    category_count.append((category,x))\n",
    "\n",
    "category_count.sort()\n",
    "category_count"
   ]
  },
  {
   "cell_type": "code",
   "execution_count": 6,
   "id": "b0c2dddf-30fc-442b-b6ee-9c45b99dcb1a",
   "metadata": {},
   "outputs": [],
   "source": [
    "feature=[]\n",
    "target=[]\n",
    "headline = []\n",
    "\n",
    "for p in data:\n",
    "    if p['category'] in unique_cat:\n",
    "        headline.append(p['title'])\n",
    "        feature.append(p['content'])\n",
    "        target.append(p['category'])"
   ]
  },
  {
   "cell_type": "code",
   "execution_count": 7,
   "id": "8071f071-cf4e-4f1b-b9a8-df1c6a1830c2",
   "metadata": {},
   "outputs": [],
   "source": [
    "data_frame = pd.DataFrame()\n",
    "\n",
    "data_frame['feature'] = feature\n",
    "data_frame['target'] = target\n",
    "data_frame['title'] = headline"
   ]
  },
  {
   "cell_type": "code",
   "execution_count": 8,
   "id": "df693d9e-a604-4ca2-8e99-ecab2cdbd991",
   "metadata": {},
   "outputs": [
    {
     "data": {
      "text/html": [
       "<div>\n",
       "<style scoped>\n",
       "    .dataframe tbody tr th:only-of-type {\n",
       "        vertical-align: middle;\n",
       "    }\n",
       "\n",
       "    .dataframe tbody tr th {\n",
       "        vertical-align: top;\n",
       "    }\n",
       "\n",
       "    .dataframe thead th {\n",
       "        text-align: right;\n",
       "    }\n",
       "</style>\n",
       "<table border=\"1\" class=\"dataframe\">\n",
       "  <thead>\n",
       "    <tr style=\"text-align: right;\">\n",
       "      <th></th>\n",
       "      <th>feature</th>\n",
       "      <th>target</th>\n",
       "      <th>title</th>\n",
       "    </tr>\n",
       "  </thead>\n",
       "  <tbody>\n",
       "    <tr>\n",
       "      <th>0</th>\n",
       "      <td>গাজীপুরের কালিয়াকৈর উপজেলার তেলিরচালা এলাকায়...</td>\n",
       "      <td>bangladesh</td>\n",
       "      <td>কালিয়াকৈরে টিফিন খেয়ে ৫০০ শ্রমিক অসুস্থ, বিক...</td>\n",
       "    </tr>\n",
       "    <tr>\n",
       "      <th>1</th>\n",
       "      <td>এবারের উইম্বলডনটা স্মরণীয় করে রাখার মিশনেই যে...</td>\n",
       "      <td>sports</td>\n",
       "      <td>সেমিফাইনাল বাধাও পেরিয়ে গেলেন লিসিকি</td>\n",
       "    </tr>\n",
       "    <tr>\n",
       "      <th>2</th>\n",
       "      <td>জাতীয় সংসদে বিএনপি চেয়ারপারসন ও বিরোধীদলীয় ...</td>\n",
       "      <td>bangladesh</td>\n",
       "      <td>সংসদে খালেদার অভিযোগের জবাব দিয়েছে ভারত</td>\n",
       "    </tr>\n",
       "    <tr>\n",
       "      <th>3</th>\n",
       "      <td>সহজ পাসওয়ার্ডের কারণে অনলাইন অ্যাকাউন্ট সহজেই...</td>\n",
       "      <td>technology</td>\n",
       "      <td>পাসওয়ার্ড ভুলে যান!</td>\n",
       "    </tr>\n",
       "    <tr>\n",
       "      <th>4</th>\n",
       "      <td>কম্পিউটার মাউসের উদ্ভাবক ডগলাস অ্যাঙ্গেলবার্ট ...</td>\n",
       "      <td>technology</td>\n",
       "      <td>চলে গেলেন মাউস উদ্ভাবক</td>\n",
       "    </tr>\n",
       "  </tbody>\n",
       "</table>\n",
       "</div>"
      ],
      "text/plain": [
       "                                             feature      target  \\\n",
       "0  গাজীপুরের কালিয়াকৈর উপজেলার তেলিরচালা এলাকায়...  bangladesh   \n",
       "1  এবারের উইম্বলডনটা স্মরণীয় করে রাখার মিশনেই যে...      sports   \n",
       "2  জাতীয় সংসদে বিএনপি চেয়ারপারসন ও বিরোধীদলীয় ...  bangladesh   \n",
       "3  সহজ পাসওয়ার্ডের কারণে অনলাইন অ্যাকাউন্ট সহজেই...  technology   \n",
       "4  কম্পিউটার মাউসের উদ্ভাবক ডগলাস অ্যাঙ্গেলবার্ট ...  technology   \n",
       "\n",
       "                                               title  \n",
       "0  কালিয়াকৈরে টিফিন খেয়ে ৫০০ শ্রমিক অসুস্থ, বিক...  \n",
       "1              সেমিফাইনাল বাধাও পেরিয়ে গেলেন লিসিকি  \n",
       "2           সংসদে খালেদার অভিযোগের জবাব দিয়েছে ভারত  \n",
       "3                               পাসওয়ার্ড ভুলে যান!  \n",
       "4                             চলে গেলেন মাউস উদ্ভাবক  "
      ]
     },
     "execution_count": 8,
     "metadata": {},
     "output_type": "execute_result"
    }
   ],
   "source": [
    "data_frame.head()"
   ]
  },
  {
   "cell_type": "code",
   "execution_count": 9,
   "id": "85e56b12-fdae-4701-9a3b-37ee3119c46d",
   "metadata": {},
   "outputs": [],
   "source": [
    "label_enc = LabelEncoder()"
   ]
  },
  {
   "cell_type": "code",
   "execution_count": 10,
   "id": "7927938b-6b5f-46dd-8f1e-83a3024d4eb2",
   "metadata": {},
   "outputs": [],
   "source": [
    "data_frame['label'] = label_enc.fit_transform(data_frame['target'])"
   ]
  },
  {
   "cell_type": "code",
   "execution_count": 11,
   "id": "c1b996f6-c19f-4d34-bdbb-93c0c9abee1a",
   "metadata": {},
   "outputs": [
    {
     "data": {
      "text/html": [
       "<div>\n",
       "<style scoped>\n",
       "    .dataframe tbody tr th:only-of-type {\n",
       "        vertical-align: middle;\n",
       "    }\n",
       "\n",
       "    .dataframe tbody tr th {\n",
       "        vertical-align: top;\n",
       "    }\n",
       "\n",
       "    .dataframe thead th {\n",
       "        text-align: right;\n",
       "    }\n",
       "</style>\n",
       "<table border=\"1\" class=\"dataframe\">\n",
       "  <thead>\n",
       "    <tr style=\"text-align: right;\">\n",
       "      <th></th>\n",
       "      <th>feature</th>\n",
       "      <th>target</th>\n",
       "      <th>title</th>\n",
       "      <th>label</th>\n",
       "    </tr>\n",
       "  </thead>\n",
       "  <tbody>\n",
       "    <tr>\n",
       "      <th>0</th>\n",
       "      <td>গাজীপুরের কালিয়াকৈর উপজেলার তেলিরচালা এলাকায়...</td>\n",
       "      <td>bangladesh</td>\n",
       "      <td>কালিয়াকৈরে টিফিন খেয়ে ৫০০ শ্রমিক অসুস্থ, বিক...</td>\n",
       "      <td>0</td>\n",
       "    </tr>\n",
       "    <tr>\n",
       "      <th>1</th>\n",
       "      <td>এবারের উইম্বলডনটা স্মরণীয় করে রাখার মিশনেই যে...</td>\n",
       "      <td>sports</td>\n",
       "      <td>সেমিফাইনাল বাধাও পেরিয়ে গেলেন লিসিকি</td>\n",
       "      <td>7</td>\n",
       "    </tr>\n",
       "    <tr>\n",
       "      <th>2</th>\n",
       "      <td>জাতীয় সংসদে বিএনপি চেয়ারপারসন ও বিরোধীদলীয় ...</td>\n",
       "      <td>bangladesh</td>\n",
       "      <td>সংসদে খালেদার অভিযোগের জবাব দিয়েছে ভারত</td>\n",
       "      <td>0</td>\n",
       "    </tr>\n",
       "    <tr>\n",
       "      <th>3</th>\n",
       "      <td>সহজ পাসওয়ার্ডের কারণে অনলাইন অ্যাকাউন্ট সহজেই...</td>\n",
       "      <td>technology</td>\n",
       "      <td>পাসওয়ার্ড ভুলে যান!</td>\n",
       "      <td>8</td>\n",
       "    </tr>\n",
       "    <tr>\n",
       "      <th>4</th>\n",
       "      <td>কম্পিউটার মাউসের উদ্ভাবক ডগলাস অ্যাঙ্গেলবার্ট ...</td>\n",
       "      <td>technology</td>\n",
       "      <td>চলে গেলেন মাউস উদ্ভাবক</td>\n",
       "      <td>8</td>\n",
       "    </tr>\n",
       "  </tbody>\n",
       "</table>\n",
       "</div>"
      ],
      "text/plain": [
       "                                             feature      target  \\\n",
       "0  গাজীপুরের কালিয়াকৈর উপজেলার তেলিরচালা এলাকায়...  bangladesh   \n",
       "1  এবারের উইম্বলডনটা স্মরণীয় করে রাখার মিশনেই যে...      sports   \n",
       "2  জাতীয় সংসদে বিএনপি চেয়ারপারসন ও বিরোধীদলীয় ...  bangladesh   \n",
       "3  সহজ পাসওয়ার্ডের কারণে অনলাইন অ্যাকাউন্ট সহজেই...  technology   \n",
       "4  কম্পিউটার মাউসের উদ্ভাবক ডগলাস অ্যাঙ্গেলবার্ট ...  technology   \n",
       "\n",
       "                                               title  label  \n",
       "0  কালিয়াকৈরে টিফিন খেয়ে ৫০০ শ্রমিক অসুস্থ, বিক...      0  \n",
       "1              সেমিফাইনাল বাধাও পেরিয়ে গেলেন লিসিকি      7  \n",
       "2           সংসদে খালেদার অভিযোগের জবাব দিয়েছে ভারত      0  \n",
       "3                               পাসওয়ার্ড ভুলে যান!      8  \n",
       "4                             চলে গেলেন মাউস উদ্ভাবক      8  "
      ]
     },
     "execution_count": 11,
     "metadata": {},
     "output_type": "execute_result"
    }
   ],
   "source": [
    "data_frame.head()"
   ]
  },
  {
   "cell_type": "code",
   "execution_count": 12,
   "id": "61bf4fb6-70c6-46f3-a46c-ebb6fa4e8674",
   "metadata": {},
   "outputs": [
    {
     "data": {
      "text/plain": [
       "array(['bangladesh', 'economy', 'education', 'entertainment',\n",
       "       'international', 'life-style', 'opinion', 'sports', 'technology'],\n",
       "      dtype=object)"
      ]
     },
     "execution_count": 12,
     "metadata": {},
     "output_type": "execute_result"
    }
   ],
   "source": [
    "label_enc.classes_"
   ]
  },
  {
   "cell_type": "code",
   "execution_count": 13,
   "id": "1847c12c-e06a-419a-a72a-99077b3e06f1",
   "metadata": {},
   "outputs": [],
   "source": [
    "bangla_tokenizer = BasicTokenizer()"
   ]
  },
  {
   "cell_type": "code",
   "execution_count": 14,
   "id": "f28ac5ed-5e2a-40d3-93a5-2119a1674743",
   "metadata": {},
   "outputs": [],
   "source": [
    "def clean_text(samples):\n",
    "    \n",
    "    tokens = bangla_tokenizer.tokenize(samples)\n",
    "    \n",
    "    temp = []\n",
    "    \n",
    "    \n",
    "    for i in tokens:\n",
    "        \n",
    "        if i in stopwords:\n",
    "            \n",
    "            continue\n",
    "            \n",
    "        if i in punctuations + '‘' + '’':\n",
    "            \n",
    "            continue\n",
    "            \n",
    "        temp.append(i)\n",
    "        \n",
    "    return \" \".join(temp)"
   ]
  },
  {
   "cell_type": "code",
   "execution_count": 15,
   "id": "83bc033a-d3d0-4729-8105-390e118de146",
   "metadata": {},
   "outputs": [],
   "source": [
    "data_frame['feature'] = data_frame['feature'].apply(clean_text)"
   ]
  },
  {
   "cell_type": "code",
   "execution_count": 16,
   "id": "3a17142f-8371-44d0-9dcd-cc15b886dbbe",
   "metadata": {},
   "outputs": [],
   "source": [
    "data_frame['title'] = data_frame['title'].apply(clean_text)"
   ]
  },
  {
   "cell_type": "code",
   "execution_count": 18,
   "id": "9f29b92f-76d0-41f0-8f6f-01bc49eef763",
   "metadata": {},
   "outputs": [
    {
     "data": {
      "text/html": [
       "<div>\n",
       "<style scoped>\n",
       "    .dataframe tbody tr th:only-of-type {\n",
       "        vertical-align: middle;\n",
       "    }\n",
       "\n",
       "    .dataframe tbody tr th {\n",
       "        vertical-align: top;\n",
       "    }\n",
       "\n",
       "    .dataframe thead th {\n",
       "        text-align: right;\n",
       "    }\n",
       "</style>\n",
       "<table border=\"1\" class=\"dataframe\">\n",
       "  <thead>\n",
       "    <tr style=\"text-align: right;\">\n",
       "      <th></th>\n",
       "      <th>feature</th>\n",
       "      <th>target</th>\n",
       "      <th>title</th>\n",
       "      <th>label</th>\n",
       "    </tr>\n",
       "  </thead>\n",
       "  <tbody>\n",
       "    <tr>\n",
       "      <th>0</th>\n",
       "      <td>গাজীপুরের কালিয়াকৈর উপজেলার তেলিরচালা এলাকায়...</td>\n",
       "      <td>bangladesh</td>\n",
       "      <td>কালিয়াকৈরে টিফিন খেয়ে ৫০০ শ্রমিক অসুস্থ বিক্ষোভ</td>\n",
       "      <td>0</td>\n",
       "    </tr>\n",
       "    <tr>\n",
       "      <th>1</th>\n",
       "      <td>এবারের উইম্বলডনটা স্মরণীয় রাখার মিশনেই নেমেছে...</td>\n",
       "      <td>sports</td>\n",
       "      <td>সেমিফাইনাল বাধাও পেরিয়ে গেলেন লিসিকি</td>\n",
       "      <td>7</td>\n",
       "    </tr>\n",
       "    <tr>\n",
       "      <th>2</th>\n",
       "      <td>জাতীয় সংসদে বিএনপি চেয়ারপারসন বিরোধীদলীয় নে...</td>\n",
       "      <td>bangladesh</td>\n",
       "      <td>সংসদে খালেদার অভিযোগের জবাব ভারত</td>\n",
       "      <td>0</td>\n",
       "    </tr>\n",
       "    <tr>\n",
       "      <th>3</th>\n",
       "      <td>সহজ পাসওয়ার্ডের কারণে অনলাইন অ্যাকাউন্ট সহজেই...</td>\n",
       "      <td>technology</td>\n",
       "      <td>পাসওয়ার্ড ভুলে</td>\n",
       "      <td>8</td>\n",
       "    </tr>\n",
       "    <tr>\n",
       "      <th>4</th>\n",
       "      <td>কম্পিউটার মাউসের উদ্ভাবক ডগলাস অ্যাঙ্গেলবার্ট ...</td>\n",
       "      <td>technology</td>\n",
       "      <td>গেলেন মাউস উদ্ভাবক</td>\n",
       "      <td>8</td>\n",
       "    </tr>\n",
       "  </tbody>\n",
       "</table>\n",
       "</div>"
      ],
      "text/plain": [
       "                                             feature      target  \\\n",
       "0  গাজীপুরের কালিয়াকৈর উপজেলার তেলিরচালা এলাকায়...  bangladesh   \n",
       "1  এবারের উইম্বলডনটা স্মরণীয় রাখার মিশনেই নেমেছে...      sports   \n",
       "2  জাতীয় সংসদে বিএনপি চেয়ারপারসন বিরোধীদলীয় নে...  bangladesh   \n",
       "3  সহজ পাসওয়ার্ডের কারণে অনলাইন অ্যাকাউন্ট সহজেই...  technology   \n",
       "4  কম্পিউটার মাউসের উদ্ভাবক ডগলাস অ্যাঙ্গেলবার্ট ...  technology   \n",
       "\n",
       "                                               title  label  \n",
       "0  কালিয়াকৈরে টিফিন খেয়ে ৫০০ শ্রমিক অসুস্থ বিক্ষোভ      0  \n",
       "1              সেমিফাইনাল বাধাও পেরিয়ে গেলেন লিসিকি      7  \n",
       "2                   সংসদে খালেদার অভিযোগের জবাব ভারত      0  \n",
       "3                                    পাসওয়ার্ড ভুলে      8  \n",
       "4                                 গেলেন মাউস উদ্ভাবক      8  "
      ]
     },
     "execution_count": 18,
     "metadata": {},
     "output_type": "execute_result"
    }
   ],
   "source": [
    "data_frame.head()"
   ]
  },
  {
   "cell_type": "code",
   "execution_count": null,
   "id": "ae4e73e1-fc7d-4af4-9666-be24bfa34fa8",
   "metadata": {},
   "outputs": [],
   "source": [
    "data.to_csv(f'data/cleaned_data.csv', index = False)"
   ]
  },
  {
   "cell_type": "code",
   "execution_count": 21,
   "id": "736167bd-e7b9-45b9-bb76-e85cb2d2725f",
   "metadata": {
    "tags": []
   },
   "outputs": [],
   "source": [
    "with open(f'label_encoder.pkl', 'wb') as f:\n",
    "    \n",
    "    pickle.dump(label_enc, f)\n",
    "    \n",
    "    f.close()"
   ]
  },
  {
   "cell_type": "code",
   "execution_count": null,
   "id": "d43947bf-2ebc-4c1f-8e53-dd1b543a5037",
   "metadata": {},
   "outputs": [],
   "source": []
  }
 ],
 "metadata": {
  "kernelspec": {
   "display_name": "Python 3 (ipykernel)",
   "language": "python",
   "name": "python3"
  },
  "language_info": {
   "codemirror_mode": {
    "name": "ipython",
    "version": 3
   },
   "file_extension": ".py",
   "mimetype": "text/x-python",
   "name": "python",
   "nbconvert_exporter": "python",
   "pygments_lexer": "ipython3",
   "version": "3.8.16"
  }
 },
 "nbformat": 4,
 "nbformat_minor": 5
}
